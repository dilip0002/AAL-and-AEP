{
 "cells": [
  {
   "cell_type": "markdown",
   "id": "00ba6428-1796-451b-9552-976caad50d19",
   "metadata": {},
   "source": [
    "## Input data preparation"
   ]
  },
  {
   "cell_type": "markdown",
   "id": "a53223cd-a607-4e19-8ade-a1423e9eb4a3",
   "metadata": {},
   "source": [
    "#### This code is used to prepare various miscellaneous input data that are to be input into the eventual AAL calculations.\n",
    "1. Copying rasters from HECRAS model files to a single folder and renaming it as required\n",
    "2. Preparing Building data that will be fed into AAL calculations\n",
    "3. If required, converting CRS and calculating coordinates"
   ]
  },
  {
   "cell_type": "markdown",
   "id": "764afb94-d0a6-47c7-99fb-516e759a76c1",
   "metadata": {},
   "source": [
    "#### 1. Copying rasters from all RAS model files and copying it to a single folder and renaming it as required"
   ]
  },
  {
   "cell_type": "code",
   "execution_count": 22,
   "id": "f5c08c87-9f19-4590-92e6-259f2a3daee9",
   "metadata": {},
   "outputs": [],
   "source": [
    "import os\n",
    "import shutil"
   ]
  },
  {
   "cell_type": "code",
   "execution_count": 23,
   "id": "829e3d85-0836-4906-b35d-b3ebb6a4f1cc",
   "metadata": {},
   "outputs": [],
   "source": [
    "# Directories\n",
    "input_directory = r\"U:\\193709305\\03_data\\Probabilistic_Modeling\\FloodManagerOutputs\\TurkeyCreekResults\"\n",
    "output_directory = r\"U:\\193709305\\03_data\\Probabilistic_Modeling\\FloodManagerOutputs\\Turkey_wse_rasters_Slop\"\n",
    "\n",
    "os.makedirs(output_directory, exist_ok=True)"
   ]
  },
  {
   "cell_type": "code",
   "execution_count": 24,
   "id": "1d1de53c-ebd0-409c-83d9-faed75651466",
   "metadata": {
    "scrolled": true
   },
   "outputs": [
    {
     "name": "stdout",
     "output_type": "stream",
     "text": [
      "1000_L_q1.tif\n",
      "Copied and renamed: 1000_L_q1_Slop.Turkey.Turkey_final_update.tif → 1000_L_q1.tif\n",
      "1000_L_q2.tif\n",
      "Copied and renamed: 1000_L_q2_Slop.Turkey.Turkey_final_update.tif → 1000_L_q2.tif\n",
      "1000_L_q3.tif\n",
      "Copied and renamed: 1000_L_q3_Slop.Turkey.Turkey_final_update.tif → 1000_L_q3.tif\n",
      "1000_L_q4.tif\n",
      "Copied and renamed: 1000_L_q4_Slop.Turkey.Turkey_final_update.tif → 1000_L_q4.tif\n",
      "1000_U_q1.tif\n",
      "Copied and renamed: 1000_U_q1_Slop.Turkey.Turkey_final_update.tif → 1000_U_q1.tif\n",
      "1000_U_q2.tif\n",
      "Copied and renamed: 1000_U_q2_Slop.Turkey.Turkey_final_update.tif → 1000_U_q2.tif\n",
      "1000_U_q3.tif\n",
      "Copied and renamed: 1000_U_q3_Slop.Turkey.Turkey_final_update.tif → 1000_U_q3.tif\n",
      "1000_U_q4.tif\n",
      "Copied and renamed: 1000_U_q4_Slop.Turkey.Turkey_final_update.tif → 1000_U_q4.tif\n",
      "100_L_q1.tif\n",
      "Copied and renamed: 100_L_q1_Slop.Turkey.Turkey_final_update.tif → 100_L_q1.tif\n",
      "100_L_q2.tif\n",
      "Copied and renamed: 100_L_q2_Slop.Turkey.Turkey_final_update.tif → 100_L_q2.tif\n",
      "100_L_q3.tif\n",
      "Copied and renamed: 100_L_q3_Slop.Turkey.Turkey_final_update.tif → 100_L_q3.tif\n",
      "100_L_q4.tif\n",
      "Copied and renamed: 100_L_q4_Slop.Turkey.Turkey_final_update.tif → 100_L_q4.tif\n",
      "100_U_q1.tif\n",
      "Copied and renamed: 100_U_q1_Slop.Turkey.Turkey_final_update.tif → 100_U_q1.tif\n",
      "100_U_q2.tif\n",
      "Copied and renamed: 100_U_q2_Slop.Turkey.Turkey_final_update.tif → 100_U_q2.tif\n",
      "100_U_q3.tif\n",
      "Copied and renamed: 100_U_q3_Slop.Turkey.Turkey_final_update.tif → 100_U_q3.tif\n",
      "100_U_q4.tif\n",
      "Copied and renamed: 100_U_q4_Slop.Turkey.Turkey_final_update.tif → 100_U_q4.tif\n",
      "10_L_q1.tif\n",
      "Copied and renamed: 10_L_q1_Slop.Turkey.Turkey_final_update.tif → 10_L_q1.tif\n",
      "10_L_q2.tif\n",
      "Copied and renamed: 10_L_q2_Slop.Turkey.Turkey_final_update.tif → 10_L_q2.tif\n",
      "10_L_q3.tif\n",
      "Copied and renamed: 10_L_q3_Slop.Turkey.Turkey_final_update.tif → 10_L_q3.tif\n",
      "10_L_q4.tif\n",
      "Copied and renamed: 10_L_q4_Slop.Turkey.Turkey_final_update.tif → 10_L_q4.tif\n",
      "10_U_q1.tif\n",
      "Copied and renamed: 10_U_q1_Slop.Turkey.Turkey_final_update.tif → 10_U_q1.tif\n",
      "10_U_q2.tif\n",
      "Copied and renamed: 10_U_q2_Slop.Turkey.Turkey_final_update.tif → 10_U_q2.tif\n",
      "10_U_q3.tif\n",
      "Copied and renamed: 10_U_q3_Slop.Turkey.Turkey_final_update.tif → 10_U_q3.tif\n",
      "10_U_q4.tif\n",
      "Copied and renamed: 10_U_q4_Slop.Turkey.Turkey_final_update.tif → 10_U_q4.tif\n",
      "2000_L_q1.tif\n",
      "Copied and renamed: 2000_L_q1_Slop.Turkey.Turkey_final_update.tif → 2000_L_q1.tif\n",
      "2000_L_q2.tif\n",
      "Copied and renamed: 2000_L_q2_Slop.Turkey.Turkey_final_update.tif → 2000_L_q2.tif\n",
      "2000_L_q3.tif\n",
      "Copied and renamed: 2000_L_q3_Slop.Turkey.Turkey_final_update.tif → 2000_L_q3.tif\n",
      "2000_L_q4.tif\n",
      "Copied and renamed: 2000_L_q4_Slop.Turkey.Turkey_final_update.tif → 2000_L_q4.tif\n",
      "2000_U_q1.tif\n",
      "Copied and renamed: 2000_U_q1_Slop.Turkey.Turkey_final_update.tif → 2000_U_q1.tif\n",
      "2000_U_q2.tif\n",
      "Copied and renamed: 2000_U_q2_Slop.Turkey.Turkey_final_update.tif → 2000_U_q2.tif\n",
      "2000_U_q3.tif\n",
      "Copied and renamed: 2000_U_q3_Slop.Turkey.Turkey_final_update.tif → 2000_U_q3.tif\n",
      "2000_U_q4.tif\n",
      "Copied and renamed: 2000_U_q4_Slop.Turkey.Turkey_final_update.tif → 2000_U_q4.tif\n",
      "200_L_q1.tif\n",
      "Copied and renamed: 200_L_q1_Slop.Turkey.Turkey_final_update.tif → 200_L_q1.tif\n",
      "200_L_q2.tif\n",
      "Copied and renamed: 200_L_q2_Slop.Turkey.Turkey_final_update.tif → 200_L_q2.tif\n",
      "200_L_q3.tif\n",
      "Copied and renamed: 200_L_q3_Slop.Turkey.Turkey_final_update.tif → 200_L_q3.tif\n",
      "200_L_q4.tif\n",
      "Copied and renamed: 200_L_q4_Slop.Turkey.Turkey_final_update.tif → 200_L_q4.tif\n",
      "200_U_q1.tif\n",
      "Copied and renamed: 200_U_q1_Slop.Turkey.Turkey_final_update.tif → 200_U_q1.tif\n",
      "200_U_q2.tif\n",
      "Copied and renamed: 200_U_q2_Slop.Turkey.Turkey_final_update.tif → 200_U_q2.tif\n",
      "200_U_q3.tif\n",
      "Copied and renamed: 200_U_q3_Slop.Turkey.Turkey_final_update.tif → 200_U_q3.tif\n",
      "200_U_q4.tif\n",
      "Copied and renamed: 200_U_q4_Slop.Turkey.Turkey_final_update.tif → 200_U_q4.tif\n",
      "25_L_q1.tif\n",
      "Copied and renamed: 25_L_q1_Slop.Turkey.Turkey_final_update.tif → 25_L_q1.tif\n",
      "25_L_q2.tif\n",
      "Copied and renamed: 25_L_q2_Slop.Turkey.Turkey_final_update.tif → 25_L_q2.tif\n",
      "25_L_q3.tif\n",
      "Copied and renamed: 25_L_q3_Slop.Turkey.Turkey_final_update.tif → 25_L_q3.tif\n",
      "25_L_q4.tif\n",
      "Copied and renamed: 25_L_q4_Slop.Turkey.Turkey_final_update.tif → 25_L_q4.tif\n",
      "25_U_q1.tif\n",
      "Copied and renamed: 25_U_q1_Slop.Turkey.Turkey_final_update.tif → 25_U_q1.tif\n",
      "25_U_q2.tif\n",
      "Copied and renamed: 25_U_q2_Slop.Turkey.Turkey_final_update.tif → 25_U_q2.tif\n",
      "25_U_q3.tif\n",
      "Copied and renamed: 25_U_q3_Slop.Turkey.Turkey_final_update.tif → 25_U_q3.tif\n",
      "25_U_q4.tif\n",
      "Copied and renamed: 25_U_q4_Slop.Turkey.Turkey_final_update.tif → 25_U_q4.tif\n",
      "2_L_q1.tif\n",
      "Copied and renamed: 2_L_q1_Slop.Turkey.Turkey_final_update.tif → 2_L_q1.tif\n",
      "2_L_q2.tif\n",
      "Copied and renamed: 2_L_q2_Slop.Turkey.Turkey_final_update.tif → 2_L_q2.tif\n",
      "2_L_q3.tif\n",
      "Copied and renamed: 2_L_q3_Slop.Turkey.Turkey_final_update.tif → 2_L_q3.tif\n",
      "2_L_q4.tif\n",
      "Copied and renamed: 2_L_q4_Slop.Turkey.Turkey_final_update.tif → 2_L_q4.tif\n",
      "2_U_q1.tif\n",
      "Copied and renamed: 2_U_q1_Slop.Turkey.Turkey_final_update.tif → 2_U_q1.tif\n",
      "2_U_q2.tif\n",
      "Copied and renamed: 2_U_q2_Slop.Turkey.Turkey_final_update.tif → 2_U_q2.tif\n",
      "2_U_q3.tif\n",
      "Copied and renamed: 2_U_q3_Slop.Turkey.Turkey_final_update.tif → 2_U_q3.tif\n",
      "2_U_q4.tif\n",
      "Copied and renamed: 2_U_q4_Slop.Turkey.Turkey_final_update.tif → 2_U_q4.tif\n",
      "3000_L_q1.tif\n",
      "Copied and renamed: 3000_L_q1_Slop.Turkey.Turkey_final_update.tif → 3000_L_q1.tif\n",
      "3000_L_q2.tif\n",
      "Copied and renamed: 3000_L_q2_Slop.Turkey.Turkey_final_update.tif → 3000_L_q2.tif\n",
      "3000_L_q3.tif\n",
      "Copied and renamed: 3000_L_q3_Slop.Turkey.Turkey_final_update.tif → 3000_L_q3.tif\n",
      "3000_L_q4.tif\n",
      "Copied and renamed: 3000_L_q4_Slop.Turkey.Turkey_final_update.tif → 3000_L_q4.tif\n",
      "3000_U_q1.tif\n",
      "Copied and renamed: 3000_U_q1_Slop.Turkey.Turkey_final_update.tif → 3000_U_q1.tif\n",
      "3000_U_q2.tif\n",
      "Copied and renamed: 3000_U_q2_Slop.Turkey.Turkey_final_update.tif → 3000_U_q2.tif\n",
      "3000_U_q3.tif\n",
      "Copied and renamed: 3000_U_q3_Slop.Turkey.Turkey_final_update.tif → 3000_U_q3.tif\n",
      "500_L_q1.tif\n",
      "Copied and renamed: 500_L_q1_Slop.Turkey.Turkey_final_update.tif → 500_L_q1.tif\n",
      "500_L_q2.tif\n",
      "Copied and renamed: 500_L_q2_Slop.Turkey.Turkey_final_update.tif → 500_L_q2.tif\n",
      "500_L_q3.tif\n",
      "Copied and renamed: 500_L_q3_Slop.Turkey.Turkey_final_update.tif → 500_L_q3.tif\n",
      "500_L_q4.tif\n",
      "Copied and renamed: 500_L_q4_Slop.Turkey.Turkey_final_update.tif → 500_L_q4.tif\n",
      "500_U_q1.tif\n",
      "Copied and renamed: 500_U_q1_Slop.Turkey.Turkey_final_update.tif → 500_U_q1.tif\n",
      "500_U_q2.tif\n",
      "Copied and renamed: 500_U_q2_Slop.Turkey.Turkey_final_update.tif → 500_U_q2.tif\n",
      "500_U_q3.tif\n",
      "Copied and renamed: 500_U_q3_Slop.Turkey.Turkey_final_update.tif → 500_U_q3.tif\n",
      "500_U_q4.tif\n",
      "Copied and renamed: 500_U_q4_Slop.Turkey.Turkey_final_update.tif → 500_U_q4.tif\n",
      "50_L_q1.tif\n",
      "Copied and renamed: 50_L_q1_Slop.Turkey.Turkey_final_update.tif → 50_L_q1.tif\n",
      "50_L_q2.tif\n",
      "Copied and renamed: 50_L_q2_Slop.Turkey.Turkey_final_update.tif → 50_L_q2.tif\n",
      "50_L_q3.tif\n",
      "Copied and renamed: 50_L_q3_Slop.Turkey.Turkey_final_update.tif → 50_L_q3.tif\n",
      "50_L_q4.tif\n",
      "Copied and renamed: 50_L_q4_Slop.Turkey.Turkey_final_update.tif → 50_L_q4.tif\n",
      "50_U_q1.tif\n",
      "Copied and renamed: 50_U_q1_Slop.Turkey.Turkey_final_update.tif → 50_U_q1.tif\n",
      "50_U_q2.tif\n",
      "Copied and renamed: 50_U_q2_Slop.Turkey.Turkey_final_update.tif → 50_U_q2.tif\n",
      "50_U_q3.tif\n",
      "Copied and renamed: 50_U_q3_Slop.Turkey.Turkey_final_update.tif → 50_U_q3.tif\n",
      "50_U_q4.tif\n",
      "Copied and renamed: 50_U_q4_Slop.Turkey.Turkey_final_update.tif → 50_U_q4.tif\n",
      "5_L_q1.tif\n",
      "Copied and renamed: 5_L_q1_Slop.Turkey.Turkey_final_update.tif → 5_L_q1.tif\n",
      "5_L_q2.tif\n",
      "Copied and renamed: 5_L_q2_Slop.Turkey.Turkey_final_update.tif → 5_L_q2.tif\n",
      "5_L_q3.tif\n",
      "Copied and renamed: 5_L_q3_Slop.Turkey.Turkey_final_update.tif → 5_L_q3.tif\n",
      "5_L_q4.tif\n",
      "Copied and renamed: 5_L_q4_Slop.Turkey.Turkey_final_update.tif → 5_L_q4.tif\n",
      "5_U_q1.tif\n",
      "Copied and renamed: 5_U_q1_Slop.Turkey.Turkey_final_update.tif → 5_U_q1.tif\n",
      "5_U_q2.tif\n",
      "Copied and renamed: 5_U_q2_Slop.Turkey.Turkey_final_update.tif → 5_U_q2.tif\n",
      "5_U_q3.tif\n",
      "Copied and renamed: 5_U_q3_Slop.Turkey.Turkey_final_update.tif → 5_U_q3.tif\n",
      "5_U_q4.tif\n",
      "Copied and renamed: 5_U_q4_Slop.Turkey.Turkey_final_update.tif → 5_U_q4.tif\n",
      "9900_L_q1.tif\n",
      "Copied and renamed: 9900_L_q1_Slop.Turkey.Turkey_final_update.tif → 9900_L_q1.tif\n",
      "9900_L_q2.tif\n",
      "Copied and renamed: 9900_L_q2_Slop.Turkey.Turkey_final_update.tif → 9900_L_q2.tif\n",
      "9900_L_q3.tif\n",
      "Copied and renamed: 9900_L_q3_Slop.Turkey.Turkey_final_update.tif → 9900_L_q3.tif\n",
      "9900_L_q4.tif\n",
      "Copied and renamed: 9900_L_q4_Slop.Turkey.Turkey_final_update.tif → 9900_L_q4.tif\n",
      "9900_U_q1.tif\n",
      "Copied and renamed: 9900_U_q1_Slop.Turkey.Turkey_final_update.tif → 9900_U_q1.tif\n",
      "9900_U_q2.tif\n",
      "Copied and renamed: 9900_U_q2_Slop.Turkey.Turkey_final_update.tif → 9900_U_q2.tif\n",
      "9900_U_q3.tif\n",
      "Copied and renamed: 9900_U_q3_Slop.Turkey.Turkey_final_update.tif → 9900_U_q3.tif\n",
      "9900_U_q4.tif\n",
      "Copied and renamed: 9900_U_q4_Slop.Turkey.Turkey_final_update.tif → 9900_U_q4.tif\n"
     ]
    }
   ],
   "source": [
    "# Looping through first-level parent folders\n",
    "for parent_folder in os.listdir(input_directory):\n",
    "    parent_path = os.path.join(input_directory, parent_folder)\n",
    "\n",
    "    if os.path.isdir(parent_path):\n",
    "        # Looping through second level folders\n",
    "        for folder in os.listdir(parent_path):\n",
    "            folder_path = os.path.join(parent_path, folder)\n",
    "\n",
    "            for folder1 in os.listdir(folder_path):\n",
    "                folder1_path = os.path.join(folder_path, folder1)\n",
    "                if os.path.isdir(folder1_path) and folder1.endswith((\"q1\", \"q2\", \"q3\", \"q4\")):     # Checking if the folder ends with q1, q2, q3, or q4\n",
    "                    \n",
    "                    for file in os.listdir(folder1_path):\n",
    "                        if file.endswith(\"Slop.Turkey.Turkey_final_update.tif\"):\n",
    "                            old_file_path = os.path.join(folder1_path, file)\n",
    "                            \n",
    "                            # Renaming the filenames\n",
    "                            new_filename = file.replace(\"_Slop.Turkey.Turkey_final_update\", \"\")\n",
    "                            print(new_filename)\n",
    "                            new_file_path = os.path.join(output_directory, new_filename)\n",
    "                            \n",
    "                            shutil.copy2(old_file_path, new_file_path)                              # Copying file to Output directory\n",
    "                            print(f\"Copied and renamed: {file} → {new_filename}\")"
   ]
  },
  {
   "cell_type": "code",
   "execution_count": null,
   "id": "fa34e0c0-4fe2-4a53-98a0-bcdf2d3faeb0",
   "metadata": {},
   "outputs": [],
   "source": []
  },
  {
   "cell_type": "code",
   "execution_count": null,
   "id": "2b809c56-653c-4cbd-bf8c-ef35329980a1",
   "metadata": {},
   "outputs": [],
   "source": []
  },
  {
   "cell_type": "markdown",
   "id": "064d7285-1246-4080-8526-2f9182fcd465",
   "metadata": {},
   "source": [
    "#### 2. Preparing building data files scuh that it is ready to be fed into the AAL calculations\n",
    "- There were building footprints in the AIMS data that had ground elevation values as zero.\n",
    "- So, this code extracts the ground elevation values from the Terrain raster file and associate them to the building footprints having zero ground elevation data"
   ]
  },
  {
   "cell_type": "code",
   "execution_count": 1,
   "id": "840e1204-6dfa-4f13-976c-0d93b7ad419d",
   "metadata": {},
   "outputs": [],
   "source": [
    "import os\n",
    "import glob\n",
    "import pathlib as pl\n",
    "\n",
    "import numpy as np\n",
    "import pandas as pd\n",
    "import geopandas as gpd\n",
    "from osgeo import gdal"
   ]
  },
  {
   "cell_type": "code",
   "execution_count": 16,
   "id": "a9e6b66d-0ffb-4272-afa8-82da320465ec",
   "metadata": {},
   "outputs": [],
   "source": [
    "def getTifData(tif_path: str):\n",
    "    \"\"\"Read a WSE raster and return the gdal objects\"\"\"\n",
    "    src = gdal.Open(str(tif_path))\n",
    "    rb = src.GetRasterBand(1)\n",
    "    gt = src.GetGeoTransform()\n",
    "    proj = src.GetProjection()\n",
    "    return rb, gt, src"
   ]
  },
  {
   "cell_type": "code",
   "execution_count": 8,
   "id": "64f9daab-6340-4aba-942a-df480e468d25",
   "metadata": {},
   "outputs": [],
   "source": [
    "def query(x: float, y: float, gt: any, rb: any) -> float:\n",
    "    \"\"\"Queries one specific cell in the rasterband given an x, y in the \n",
    "    geotransform\n",
    "    \"\"\"\n",
    "    px = int((x-gt[0]) / gt[1])   \n",
    "    py = int((y-gt[3]) / gt[5])   \n",
    "    return rb.ReadAsArray(px,py,1,1)[0][0]"
   ]
  },
  {
   "cell_type": "code",
   "execution_count": 9,
   "id": "415da3a3-e700-4dec-b61d-4d3c87c55571",
   "metadata": {},
   "outputs": [],
   "source": [
    "def ElevationData(gdf_path, gt, rb):\n",
    "    \"\"\"Read structures, compute ground elevation values from the terrain file\"\"\"\n",
    "\n",
    "    gdf = gpd.read_file(gdf_path) \n",
    "    \n",
    "    for i, idx in enumerate(gdf.index):\n",
    "        x = gdf.loc[idx, 'x_sp']\n",
    "        y = gdf.loc[idx, 'y_sp']\n",
    "        pixel_value = query(x, y, gt, rb)\n",
    "        \n",
    "        # Assign WSE value to the GeoDataFrame, if value is -9999 it assigns the same -9999 value\n",
    "        gdf.at[idx, 'ground_elv'] = pixel_value\n",
    "\n",
    "    return gdf"
   ]
  },
  {
   "cell_type": "code",
   "execution_count": 10,
   "id": "1d5646a8-63f7-478a-9f8d-ab022bae2abb",
   "metadata": {},
   "outputs": [],
   "source": [
    "def ElevBuildingPts(tif_path, gdf_path):\n",
    "    \"\"\"Assigns ground elevation values to each building points\"\"\"\n",
    "    rb, gt, src = getTifData(tif_path)\n",
    "    elev_result = ElevationData(gdf_path, gt, rb)\n",
    "    return elev_result"
   ]
  },
  {
   "cell_type": "code",
   "execution_count": 19,
   "id": "8832453b-6b32-4b6e-8c6c-1239d8c8710b",
   "metadata": {},
   "outputs": [],
   "source": [
    "root_dir = pl.Path(os.getcwd())\n",
    "\n",
    "tif_file = root_dir/'TurkeyBrush_raster/Turkey.Turkey_final_update.tif'\n",
    "bld_file = root_dir/'misc_shps/TurkeyBrush_empty_empty_sa.shp'\n",
    "\n",
    "elev_res = ElevBuildingPts(tif_file, bld_file)   # Calculating ground elevation"
   ]
  },
  {
   "cell_type": "code",
   "execution_count": 21,
   "id": "b6a4940c-1913-451f-beac-3a721818e942",
   "metadata": {},
   "outputs": [],
   "source": [
    "# Saving the final GeoDataFrame consisting of extracted elevation values\n",
    "output_path_elev = root_dir/'misc_shps/TurkeyBrush_empty_empty_Elev.shp'\n",
    "elev_res.to_file(output_path_elev, driver='ESRI Shapefile')"
   ]
  },
  {
   "cell_type": "code",
   "execution_count": null,
   "id": "24a2a4eb-46ea-4177-888b-dfa4abe404c5",
   "metadata": {},
   "outputs": [],
   "source": []
  },
  {
   "cell_type": "code",
   "execution_count": null,
   "id": "a64514d6-41fc-44b9-a629-4da47e03a21d",
   "metadata": {},
   "outputs": [],
   "source": []
  },
  {
   "cell_type": "markdown",
   "id": "b3a86c5c-f4bf-42ce-9425-d28bcb9ac77d",
   "metadata": {},
   "source": [
    "#### Assigning RES3 (3A to 3F) building types based on whether they have basements or not\n",
    "- The building of occupancy type (RES3) are only categorized as RES3A, RES3B, ..., RES3F.\n",
    "- It is not categorized if it has basement or not.\n",
    "- So, the two lines of codes below this categorizes these RES3 occupancy types based on their availability of basements"
   ]
  },
  {
   "cell_type": "code",
   "execution_count": 28,
   "id": "ac96f4f8-4561-44e5-8676-2623dfa12b48",
   "metadata": {},
   "outputs": [],
   "source": [
    "def new_occtype(row, occtype_val, found_type_val):\n",
    "    \"\"\"Reads the  occupancy type and foundation type for RES3 occupancy types and reclassifies based on whether a structure has basement or not.\n",
    "    Since RES3A to RES3F needed to be reclassified on their availability of the basement.\n",
    "    \"\"\"\n",
    "    if row['occtype'] in occtype_val and row['found_type'] == found_type_val:\n",
    "        return f\"{row['occtype']}-{row['found_type']}\"\n",
    "    elif row['occtype'] in occtype_val and row['found_type'] != found_type_val:\n",
    "        return f\"{row['occtype']}-NB\"\n",
    "    else:\n",
    "        return row['occtype']"
   ]
  },
  {
   "cell_type": "code",
   "execution_count": 29,
   "id": "237a6bbf-c7fa-4e1c-91af-eeceb9257d2e",
   "metadata": {},
   "outputs": [],
   "source": [
    "# Reclassify RES3 occupancy type based on basement or not\n",
    "root_dir = pl.Path(os.getcwd())\n",
    "bldg_f = root_dir/'misc_shps/TurkeyBrush_final_BldAttrb.shp'\n",
    "\n",
    "occtype_val = [\"RES3A\", \"RES3B\", \"RES3C\", \"RES3D\", \"RES3E\", \"RES3F\"]\n",
    "found_type_val = \"B\"\n",
    "\n",
    "res3_class = gpd.read_file(bldg_f)\n",
    "res3_class['occ_new'] = res3_class.apply(new_occtype, args=(occtype_val, found_type_val), axis=1)"
   ]
  },
  {
   "cell_type": "code",
   "execution_count": 30,
   "id": "325d6014-1d32-4912-bc27-bd0f564cfc36",
   "metadata": {
    "scrolled": true
   },
   "outputs": [],
   "source": [
    "# Saving the reclassified RES3 categories shapefile\n",
    "output_path_reclass = root_dir/'misc_shps/TurkeyBrush_finalfinal_BldAttrb.shp'\n",
    "res3_class.to_file(output_path_reclass, driver = 'ESRI Shapefile')"
   ]
  },
  {
   "cell_type": "code",
   "execution_count": null,
   "id": "b99d3823-664d-4b2f-b877-ed52aaa04817",
   "metadata": {},
   "outputs": [],
   "source": []
  },
  {
   "cell_type": "code",
   "execution_count": null,
   "id": "3d4173a7-d91f-4c77-ae14-f9cfd7363ab3",
   "metadata": {},
   "outputs": [],
   "source": []
  },
  {
   "cell_type": "markdown",
   "id": "bbfddaf9-7dc4-4350-a400-479db3b7c3c2",
   "metadata": {},
   "source": [
    "#### Converting polygons shapefiles to point shapefiles\n",
    "This is done for building polygons. The points are the centroid of the polygons.\n",
    "- It is done because the building points are necessary to extract the WSE values from WSE rasters, to calculate AAL values."
   ]
  },
  {
   "cell_type": "code",
   "execution_count": 7,
   "id": "39eade5f-0513-4686-9777-fa66be5f8ab2",
   "metadata": {},
   "outputs": [],
   "source": [
    "from shapely.geometry import Point\n",
    "\n",
    "root_dir = root_dir = pl.Path(os.getcwd()) \n",
    "bld_shp_path = root_dir.parent/'shps/polygon_shp/TurkeyBrush_finalfinal_BldAttrb.shp'\n",
    "output_bld_shp_path = root_dir.parent/'shps/point_shp/TurkeyBrush_point_BldAttrb.shp'"
   ]
  },
  {
   "cell_type": "code",
   "execution_count": 10,
   "id": "0531b618-a134-4577-ba50-1c3802eb5d1c",
   "metadata": {},
   "outputs": [],
   "source": [
    "bldg_gdf = gpd.read_file(bld_shp_path)\n",
    "bldg_gdf['geometry'] = [Point(xy) for xy in zip(bldg_gdf['x_sp'], bldg_gdf['y_sp'])]   # Creating point geometry using centroid coordinates\n",
    "bldg_gdf.to_file(output_bld_shp_path)"
   ]
  },
  {
   "cell_type": "code",
   "execution_count": null,
   "id": "403eab17-343b-490e-83f0-e21df1d8f6e6",
   "metadata": {},
   "outputs": [],
   "source": []
  },
  {
   "cell_type": "code",
   "execution_count": null,
   "id": "277319fa-0c01-46bb-9a6b-cc6310b3d9f2",
   "metadata": {},
   "outputs": [],
   "source": []
  },
  {
   "cell_type": "markdown",
   "id": "69982313-803c-4485-9c50-cfba881d29cf",
   "metadata": {},
   "source": [
    "### Converting CRS and Calculating coordinates for the state plane projection"
   ]
  },
  {
   "cell_type": "code",
   "execution_count": 3,
   "id": "9130436f-b672-48de-aa6c-8c0b4d0dd106",
   "metadata": {},
   "outputs": [
    {
     "name": "stdout",
     "output_type": "stream",
     "text": [
      "Reprojected shapefile saved at: C:\\Users\\dneupane\\Documents\\Probabilistic\\AAL_calc\\Brush_100yr\\shp_nsi\\Brush_nsi_state_proj.shp\n"
     ]
    }
   ],
   "source": [
    "# To calculate coordinates for the state plane projection\n",
    "\n",
    "shapefile_path = r\"C:\\Users\\dneupane\\Documents\\Probabilistic\\AAL_calc\\Brush_100yr\\shp_nsi\\Bush_JoCo_nsi_proj.shp\"\n",
    "gdf = gpd.read_file(shapefile_path)\n",
    "\n",
    "# Reproject to State Plane Kansas North (EPSG:26977)\n",
    "#gdf = gdf.to_crs(\"EPSG:26977\")\n",
    "\n",
    "# Extract the new X and Y coordinates from the geometry\n",
    "gdf['x_sp'] = gdf.geometry.x\n",
    "gdf['y_sp'] = gdf.geometry.y\n",
    "\n",
    "# Save the updated shapefile with new coordinates\n",
    "output_path = r\"C:\\Users\\dneupane\\Documents\\Probabilistic\\AAL_calc\\Brush_100yr\\shp_nsi\\Brush_nsi_state_proj.shp\"\n",
    "gdf.to_file(output_path)\n",
    "\n",
    "print(f\"Reprojected shapefile saved at: {output_path}\")\n"
   ]
  },
  {
   "cell_type": "code",
   "execution_count": null,
   "id": "2776e43e-9d79-4f70-8992-fd6e5e409fa9",
   "metadata": {},
   "outputs": [],
   "source": []
  }
 ],
 "metadata": {
  "kernelspec": {
   "display_name": "pfra2clone",
   "language": "python",
   "name": "pfra2clone"
  },
  "language_info": {
   "codemirror_mode": {
    "name": "ipython",
    "version": 3
   },
   "file_extension": ".py",
   "mimetype": "text/x-python",
   "name": "python",
   "nbconvert_exporter": "python",
   "pygments_lexer": "ipython3",
   "version": "3.12.5"
  }
 },
 "nbformat": 4,
 "nbformat_minor": 5
}
